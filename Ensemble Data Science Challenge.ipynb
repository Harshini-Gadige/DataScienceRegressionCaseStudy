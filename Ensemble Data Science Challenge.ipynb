{
 "cells": [
  {
   "cell_type": "code",
   "execution_count": 1,
   "metadata": {},
   "outputs": [],
   "source": [
    "# Import libraries\n",
    "import pandas as pd\n",
    "import numpy as np\n",
    "import matplotlib.pyplot as plt\n",
    "%matplotlib inline \n",
    "import seaborn as sns\n",
    "from statsmodels.tools.eval_measures import mse, rmse"
   ]
  },
  {
   "cell_type": "code",
   "execution_count": 2,
   "metadata": {},
   "outputs": [
    {
     "name": "stdout",
     "output_type": "stream",
     "text": [
      "This dataset contains 81886 rows and 7 columns.\n"
     ]
    },
    {
     "data": {
      "text/html": [
       "<div>\n",
       "<style scoped>\n",
       "    .dataframe tbody tr th:only-of-type {\n",
       "        vertical-align: middle;\n",
       "    }\n",
       "\n",
       "    .dataframe tbody tr th {\n",
       "        vertical-align: top;\n",
       "    }\n",
       "\n",
       "    .dataframe thead th {\n",
       "        text-align: right;\n",
       "    }\n",
       "</style>\n",
       "<table border=\"1\" class=\"dataframe\">\n",
       "  <thead>\n",
       "    <tr style=\"text-align: right;\">\n",
       "      <th></th>\n",
       "      <th>TimeStamp</th>\n",
       "      <th>Device</th>\n",
       "      <th>Power</th>\n",
       "      <th>Rotor_Speed</th>\n",
       "      <th>Wind_Speed</th>\n",
       "      <th>Ambient_Temperature</th>\n",
       "      <th>Target_Temp</th>\n",
       "    </tr>\n",
       "  </thead>\n",
       "  <tbody>\n",
       "    <tr>\n",
       "      <th>0</th>\n",
       "      <td>1/1/2017 0:00</td>\n",
       "      <td>WT-001</td>\n",
       "      <td>-4.960554</td>\n",
       "      <td>0.0</td>\n",
       "      <td>8.247060</td>\n",
       "      <td>0.651978</td>\n",
       "      <td>4.779412</td>\n",
       "    </tr>\n",
       "    <tr>\n",
       "      <th>1</th>\n",
       "      <td>1/1/2017 0:10</td>\n",
       "      <td>WT-001</td>\n",
       "      <td>-5.020246</td>\n",
       "      <td>0.0</td>\n",
       "      <td>8.426003</td>\n",
       "      <td>0.589799</td>\n",
       "      <td>4.743060</td>\n",
       "    </tr>\n",
       "    <tr>\n",
       "      <th>2</th>\n",
       "      <td>1/1/2017 0:20</td>\n",
       "      <td>WT-001</td>\n",
       "      <td>-5.035249</td>\n",
       "      <td>0.0</td>\n",
       "      <td>8.130890</td>\n",
       "      <td>0.544098</td>\n",
       "      <td>4.700070</td>\n",
       "    </tr>\n",
       "    <tr>\n",
       "      <th>3</th>\n",
       "      <td>1/1/2017 0:30</td>\n",
       "      <td>WT-001</td>\n",
       "      <td>-4.972121</td>\n",
       "      <td>0.0</td>\n",
       "      <td>7.754125</td>\n",
       "      <td>0.452907</td>\n",
       "      <td>4.674818</td>\n",
       "    </tr>\n",
       "    <tr>\n",
       "      <th>4</th>\n",
       "      <td>1/1/2017 0:40</td>\n",
       "      <td>WT-001</td>\n",
       "      <td>-4.941651</td>\n",
       "      <td>0.0</td>\n",
       "      <td>8.085228</td>\n",
       "      <td>0.437470</td>\n",
       "      <td>4.654494</td>\n",
       "    </tr>\n",
       "  </tbody>\n",
       "</table>\n",
       "</div>"
      ],
      "text/plain": [
       "       TimeStamp  Device     Power  Rotor_Speed  Wind_Speed  \\\n",
       "0  1/1/2017 0:00  WT-001 -4.960554          0.0    8.247060   \n",
       "1  1/1/2017 0:10  WT-001 -5.020246          0.0    8.426003   \n",
       "2  1/1/2017 0:20  WT-001 -5.035249          0.0    8.130890   \n",
       "3  1/1/2017 0:30  WT-001 -4.972121          0.0    7.754125   \n",
       "4  1/1/2017 0:40  WT-001 -4.941651          0.0    8.085228   \n",
       "\n",
       "   Ambient_Temperature  Target_Temp  \n",
       "0             0.651978     4.779412  \n",
       "1             0.589799     4.743060  \n",
       "2             0.544098     4.700070  \n",
       "3             0.452907     4.674818  \n",
       "4             0.437470     4.654494  "
      ]
     },
     "execution_count": 2,
     "metadata": {},
     "output_type": "execute_result"
    }
   ],
   "source": [
    "# Import dataset.\n",
    "df = pd.read_csv('/Users/harshini/Desktop/Ensemble/SampleData.csv')\n",
    "print(\"This dataset contains {} rows and {} columns.\".format(df.shape[0],df.shape[1]))\n",
    "\n",
    "df.head()"
   ]
  },
  {
   "cell_type": "code",
   "execution_count": 3,
   "metadata": {},
   "outputs": [
    {
     "data": {
      "text/plain": [
       "TimeStamp              0\n",
       "Device                 0\n",
       "Power                  0\n",
       "Rotor_Speed            0\n",
       "Wind_Speed             0\n",
       "Ambient_Temperature    0\n",
       "Target_Temp            0\n",
       "dtype: int64"
      ]
     },
     "execution_count": 3,
     "metadata": {},
     "output_type": "execute_result"
    }
   ],
   "source": [
    "# Check for null values\n",
    "df.isnull().sum()"
   ]
  },
  {
   "cell_type": "code",
   "execution_count": 4,
   "metadata": {},
   "outputs": [
    {
     "name": "stdout",
     "output_type": "stream",
     "text": [
      "<class 'pandas.core.frame.DataFrame'>\n",
      "RangeIndex: 81886 entries, 0 to 81885\n",
      "Data columns (total 7 columns):\n",
      "TimeStamp              81886 non-null object\n",
      "Device                 81886 non-null object\n",
      "Power                  81886 non-null float64\n",
      "Rotor_Speed            81886 non-null float64\n",
      "Wind_Speed             81886 non-null float64\n",
      "Ambient_Temperature    81886 non-null float64\n",
      "Target_Temp            81886 non-null float64\n",
      "dtypes: float64(5), object(2)\n",
      "memory usage: 4.4+ MB\n"
     ]
    }
   ],
   "source": [
    "# Verify the datatypes of the variables\n",
    "df.info()"
   ]
  },
  {
   "cell_type": "markdown",
   "metadata": {},
   "source": [
    "From the above, it is clear that all are Continuous variables except Device and TimeStamp."
   ]
  },
  {
   "cell_type": "code",
   "execution_count": 5,
   "metadata": {},
   "outputs": [
    {
     "data": {
      "text/plain": [
       "TimeStamp              79028\n",
       "Device                     1\n",
       "Power                  76938\n",
       "Rotor_Speed            60663\n",
       "Wind_Speed             78163\n",
       "Ambient_Temperature    78618\n",
       "Target_Temp            73551\n",
       "dtype: int64"
      ]
     },
     "execution_count": 5,
     "metadata": {},
     "output_type": "execute_result"
    }
   ],
   "source": [
    "df.nunique()"
   ]
  },
  {
   "cell_type": "code",
   "execution_count": 6,
   "metadata": {},
   "outputs": [
    {
     "data": {
      "text/html": [
       "<div>\n",
       "<style scoped>\n",
       "    .dataframe tbody tr th:only-of-type {\n",
       "        vertical-align: middle;\n",
       "    }\n",
       "\n",
       "    .dataframe tbody tr th {\n",
       "        vertical-align: top;\n",
       "    }\n",
       "\n",
       "    .dataframe thead th {\n",
       "        text-align: right;\n",
       "    }\n",
       "</style>\n",
       "<table border=\"1\" class=\"dataframe\">\n",
       "  <thead>\n",
       "    <tr style=\"text-align: right;\">\n",
       "      <th></th>\n",
       "      <th>TimeStamp</th>\n",
       "      <th>Device</th>\n",
       "      <th>Power</th>\n",
       "      <th>Rotor_Speed</th>\n",
       "      <th>Wind_Speed</th>\n",
       "      <th>Ambient_Temperature</th>\n",
       "      <th>Target_Temp</th>\n",
       "      <th>Date</th>\n",
       "      <th>Time</th>\n",
       "    </tr>\n",
       "  </thead>\n",
       "  <tbody>\n",
       "    <tr>\n",
       "      <th>0</th>\n",
       "      <td>1/1/2017 0:00</td>\n",
       "      <td>WT-001</td>\n",
       "      <td>-4.960554</td>\n",
       "      <td>0.0</td>\n",
       "      <td>8.247060</td>\n",
       "      <td>0.651978</td>\n",
       "      <td>4.779412</td>\n",
       "      <td>1/1/2017</td>\n",
       "      <td>0:00</td>\n",
       "    </tr>\n",
       "    <tr>\n",
       "      <th>1</th>\n",
       "      <td>1/1/2017 0:10</td>\n",
       "      <td>WT-001</td>\n",
       "      <td>-5.020246</td>\n",
       "      <td>0.0</td>\n",
       "      <td>8.426003</td>\n",
       "      <td>0.589799</td>\n",
       "      <td>4.743060</td>\n",
       "      <td>1/1/2017</td>\n",
       "      <td>0:10</td>\n",
       "    </tr>\n",
       "    <tr>\n",
       "      <th>2</th>\n",
       "      <td>1/1/2017 0:20</td>\n",
       "      <td>WT-001</td>\n",
       "      <td>-5.035249</td>\n",
       "      <td>0.0</td>\n",
       "      <td>8.130890</td>\n",
       "      <td>0.544098</td>\n",
       "      <td>4.700070</td>\n",
       "      <td>1/1/2017</td>\n",
       "      <td>0:20</td>\n",
       "    </tr>\n",
       "    <tr>\n",
       "      <th>3</th>\n",
       "      <td>1/1/2017 0:30</td>\n",
       "      <td>WT-001</td>\n",
       "      <td>-4.972121</td>\n",
       "      <td>0.0</td>\n",
       "      <td>7.754125</td>\n",
       "      <td>0.452907</td>\n",
       "      <td>4.674818</td>\n",
       "      <td>1/1/2017</td>\n",
       "      <td>0:30</td>\n",
       "    </tr>\n",
       "    <tr>\n",
       "      <th>4</th>\n",
       "      <td>1/1/2017 0:40</td>\n",
       "      <td>WT-001</td>\n",
       "      <td>-4.941651</td>\n",
       "      <td>0.0</td>\n",
       "      <td>8.085228</td>\n",
       "      <td>0.437470</td>\n",
       "      <td>4.654494</td>\n",
       "      <td>1/1/2017</td>\n",
       "      <td>0:40</td>\n",
       "    </tr>\n",
       "  </tbody>\n",
       "</table>\n",
       "</div>"
      ],
      "text/plain": [
       "       TimeStamp  Device     Power  Rotor_Speed  Wind_Speed  \\\n",
       "0  1/1/2017 0:00  WT-001 -4.960554          0.0    8.247060   \n",
       "1  1/1/2017 0:10  WT-001 -5.020246          0.0    8.426003   \n",
       "2  1/1/2017 0:20  WT-001 -5.035249          0.0    8.130890   \n",
       "3  1/1/2017 0:30  WT-001 -4.972121          0.0    7.754125   \n",
       "4  1/1/2017 0:40  WT-001 -4.941651          0.0    8.085228   \n",
       "\n",
       "   Ambient_Temperature  Target_Temp      Date  Time  \n",
       "0             0.651978     4.779412  1/1/2017  0:00  \n",
       "1             0.589799     4.743060  1/1/2017  0:10  \n",
       "2             0.544098     4.700070  1/1/2017  0:20  \n",
       "3             0.452907     4.674818  1/1/2017  0:30  \n",
       "4             0.437470     4.654494  1/1/2017  0:40  "
      ]
     },
     "execution_count": 6,
     "metadata": {},
     "output_type": "execute_result"
    }
   ],
   "source": [
    "# Split the TimeStamp into 2 columns 'Date' and 'Time'\n",
    "new = df[\"TimeStamp\"].str.split(\" \", expand = True)\n",
    "df[\"Date\"]= new[0]\n",
    "df[\"Time\"]= new[1]\n",
    "df.head()"
   ]
  },
  {
   "cell_type": "code",
   "execution_count": 7,
   "metadata": {},
   "outputs": [
    {
     "data": {
      "text/plain": [
       "2017    51476\n",
       "2018    30410\n",
       "Name: Year, dtype: int64"
      ]
     },
     "execution_count": 7,
     "metadata": {},
     "output_type": "execute_result"
    }
   ],
   "source": [
    "# Convert 'Date' column to datetime object\n",
    "df['Date'] = pd.to_datetime(df['Date'])\n",
    "\n",
    "# Derive a Month column from Date\n",
    "df['Month']=df['Date'].dt.month\n",
    "\n",
    "# Derive Year column from Date\n",
    "df['Year']=df['Date'].dt.year\n",
    "\n",
    "# Convert Time to Minutes\n",
    "df['Minutes'] = df['Time'].apply(lambda s: int(s[:-3]) * 60 + int(s[-2:]))\n",
    "\n",
    "df.Year.value_counts()"
   ]
  },
  {
   "cell_type": "code",
   "execution_count": 8,
   "metadata": {},
   "outputs": [
    {
     "name": "stdout",
     "output_type": "stream",
     "text": [
      "Number of observations w.r.t seasons : \n",
      "\n",
      "Season\n",
      "Fall      13104\n",
      "Spring    26400\n",
      "Summer    19932\n",
      "Winter    22450\n",
      "Name: Season, dtype: int64\n"
     ]
    }
   ],
   "source": [
    "# Define a function to convert Month column to a categorical column called Season\n",
    "def months_to_seasons(inp):\n",
    "    if inp in [12,1,2]:\n",
    "        return \"Winter\"\n",
    "    elif inp in [3,4,5]:\n",
    "        return \"Spring\"\n",
    "    elif inp in [6,7,8]:\n",
    "        return \"Summer\"\n",
    "    else:\n",
    "        return \"Fall\"\n",
    "    \n",
    "df[\"Season\"] = df[\"Month\"].apply(months_to_seasons)\n",
    "\n",
    "# Number of observations for each season\n",
    "print(\"Number of observations w.r.t seasons : \\n\")\n",
    "print(df.groupby(\"Season\")[\"Season\"].count())"
   ]
  },
  {
   "cell_type": "code",
   "execution_count": 9,
   "metadata": {},
   "outputs": [
    {
     "data": {
      "text/plain": [
       "Power                  76938\n",
       "Rotor_Speed            60663\n",
       "Wind_Speed             78163\n",
       "Ambient_Temperature    78618\n",
       "Target_Temp            73551\n",
       "Year                       2\n",
       "Minutes                  146\n",
       "Season                     4\n",
       "dtype: int64"
      ]
     },
     "execution_count": 9,
     "metadata": {},
     "output_type": "execute_result"
    }
   ],
   "source": [
    "# Drop the column 'Device' as it has a single value and makes no effect.\n",
    "df = df.drop('Device',axis=1)\n",
    "\n",
    "# Drop the original columns 'TimeStamp','Date','Time' and 'Month' as we derived new columns from them\n",
    "df = df.drop('TimeStamp',axis=1)\n",
    "df = df.drop('Date',axis=1)\n",
    "df = df.drop('Time',axis=1)\n",
    "df = df.drop('Month',axis=1)\n",
    "\n",
    "df.nunique()"
   ]
  },
  {
   "cell_type": "code",
   "execution_count": 10,
   "metadata": {},
   "outputs": [],
   "source": [
    "# Rename column 'Minutes'\n",
    "df = df.rename(columns={\"Minutes\": \"Time_Stamp\"})"
   ]
  },
  {
   "cell_type": "code",
   "execution_count": 11,
   "metadata": {},
   "outputs": [
    {
     "data": {
      "text/html": [
       "<div>\n",
       "<style scoped>\n",
       "    .dataframe tbody tr th:only-of-type {\n",
       "        vertical-align: middle;\n",
       "    }\n",
       "\n",
       "    .dataframe tbody tr th {\n",
       "        vertical-align: top;\n",
       "    }\n",
       "\n",
       "    .dataframe thead th {\n",
       "        text-align: right;\n",
       "    }\n",
       "</style>\n",
       "<table border=\"1\" class=\"dataframe\">\n",
       "  <thead>\n",
       "    <tr style=\"text-align: right;\">\n",
       "      <th></th>\n",
       "      <th>Power</th>\n",
       "      <th>Rotor_Speed</th>\n",
       "      <th>Wind_Speed</th>\n",
       "      <th>Ambient_Temperature</th>\n",
       "      <th>Target_Temp</th>\n",
       "      <th>Year</th>\n",
       "      <th>Time_Stamp</th>\n",
       "    </tr>\n",
       "  </thead>\n",
       "  <tbody>\n",
       "    <tr>\n",
       "      <th>count</th>\n",
       "      <td>81886.000000</td>\n",
       "      <td>81886.000000</td>\n",
       "      <td>81886.000000</td>\n",
       "      <td>81886.000000</td>\n",
       "      <td>81886.000000</td>\n",
       "      <td>81886.000000</td>\n",
       "      <td>81886.000000</td>\n",
       "    </tr>\n",
       "    <tr>\n",
       "      <th>mean</th>\n",
       "      <td>751.989366</td>\n",
       "      <td>10.723839</td>\n",
       "      <td>7.185280</td>\n",
       "      <td>9.479751</td>\n",
       "      <td>33.630305</td>\n",
       "      <td>2017.371370</td>\n",
       "      <td>714.904660</td>\n",
       "    </tr>\n",
       "    <tr>\n",
       "      <th>std</th>\n",
       "      <td>660.656766</td>\n",
       "      <td>4.746975</td>\n",
       "      <td>3.434407</td>\n",
       "      <td>11.325173</td>\n",
       "      <td>58.602834</td>\n",
       "      <td>0.483174</td>\n",
       "      <td>415.240131</td>\n",
       "    </tr>\n",
       "    <tr>\n",
       "      <th>min</th>\n",
       "      <td>-16.953500</td>\n",
       "      <td>0.000000</td>\n",
       "      <td>-0.006400</td>\n",
       "      <td>-19.559160</td>\n",
       "      <td>-7.144675</td>\n",
       "      <td>2017.000000</td>\n",
       "      <td>0.000000</td>\n",
       "    </tr>\n",
       "    <tr>\n",
       "      <th>25%</th>\n",
       "      <td>127.873125</td>\n",
       "      <td>9.470116</td>\n",
       "      <td>4.687144</td>\n",
       "      <td>0.559316</td>\n",
       "      <td>22.098690</td>\n",
       "      <td>2017.000000</td>\n",
       "      <td>360.000000</td>\n",
       "    </tr>\n",
       "    <tr>\n",
       "      <th>50%</th>\n",
       "      <td>570.643300</td>\n",
       "      <td>10.829790</td>\n",
       "      <td>6.860716</td>\n",
       "      <td>8.823173</td>\n",
       "      <td>27.761085</td>\n",
       "      <td>2017.000000</td>\n",
       "      <td>720.000000</td>\n",
       "    </tr>\n",
       "    <tr>\n",
       "      <th>75%</th>\n",
       "      <td>1448.384750</td>\n",
       "      <td>14.655530</td>\n",
       "      <td>9.418991</td>\n",
       "      <td>19.320918</td>\n",
       "      <td>37.594753</td>\n",
       "      <td>2018.000000</td>\n",
       "      <td>1070.000000</td>\n",
       "    </tr>\n",
       "    <tr>\n",
       "      <th>max</th>\n",
       "      <td>1792.714000</td>\n",
       "      <td>16.443700</td>\n",
       "      <td>62.633950</td>\n",
       "      <td>34.767780</td>\n",
       "      <td>852.529400</td>\n",
       "      <td>2018.000000</td>\n",
       "      <td>1430.000000</td>\n",
       "    </tr>\n",
       "  </tbody>\n",
       "</table>\n",
       "</div>"
      ],
      "text/plain": [
       "              Power   Rotor_Speed    Wind_Speed  Ambient_Temperature  \\\n",
       "count  81886.000000  81886.000000  81886.000000         81886.000000   \n",
       "mean     751.989366     10.723839      7.185280             9.479751   \n",
       "std      660.656766      4.746975      3.434407            11.325173   \n",
       "min      -16.953500      0.000000     -0.006400           -19.559160   \n",
       "25%      127.873125      9.470116      4.687144             0.559316   \n",
       "50%      570.643300     10.829790      6.860716             8.823173   \n",
       "75%     1448.384750     14.655530      9.418991            19.320918   \n",
       "max     1792.714000     16.443700     62.633950            34.767780   \n",
       "\n",
       "        Target_Temp          Year    Time_Stamp  \n",
       "count  81886.000000  81886.000000  81886.000000  \n",
       "mean      33.630305   2017.371370    714.904660  \n",
       "std       58.602834      0.483174    415.240131  \n",
       "min       -7.144675   2017.000000      0.000000  \n",
       "25%       22.098690   2017.000000    360.000000  \n",
       "50%       27.761085   2017.000000    720.000000  \n",
       "75%       37.594753   2018.000000   1070.000000  \n",
       "max      852.529400   2018.000000   1430.000000  "
      ]
     },
     "execution_count": 11,
     "metadata": {},
     "output_type": "execute_result"
    }
   ],
   "source": [
    "# Summary Statistics\n",
    "df.describe()"
   ]
  },
  {
   "cell_type": "markdown",
   "metadata": {},
   "source": [
    "<b>Outlier Detection"
   ]
  },
  {
   "cell_type": "code",
   "execution_count": 12,
   "metadata": {},
   "outputs": [
    {
     "data": {
      "image/png": "[encoded data removed]",
      "text/plain": [
       "<Figure size 1080x720 with 6 Axes>"
      ]
     },
     "metadata": {
      "needs_background": "light"
     },
     "output_type": "display_data"
    }
   ],
   "source": [
    "# Detect outliers in data using box plots.\n",
    "\n",
    "# Extract numeric columns.\n",
    "num_cols = df.select_dtypes(include=[np.number]).columns.tolist()\n",
    "index = [1,2,3,4,5,6]\n",
    "# Create a dictionary of numeric columns\n",
    "num_dict = dict(zip(num_cols, index))\n",
    "\n",
    "plt.figure(figsize=(15,10))\n",
    "for variable,i in num_dict.items():\n",
    "                     plt.subplot(2,3,i)\n",
    "                     plt.boxplot(df[variable],whis=1.5)\n",
    "                     plt.title(variable)\n",
    "plt.show()"
   ]
  },
  {
   "cell_type": "markdown",
   "metadata": {},
   "source": [
    "<b>Treating Outliers using Winsorization technique"
   ]
  },
  {
   "cell_type": "code",
   "execution_count": 13,
   "metadata": {},
   "outputs": [
    {
     "data": {
      "image/png": "[encoded data removed]",
      "text/plain": [
       "<Figure size 720x360 with 2 Axes>"
      ]
     },
     "metadata": {
      "needs_background": "light"
     },
     "output_type": "display_data"
    }
   ],
   "source": [
    "# Treating outliers for the variable 'Rotor_Speed'\n",
    "from scipy.stats.mstats import winsorize\n",
    "winsorized_Rotor_Speed = winsorize(df[\"Rotor_Speed\"], (0.12, 0))\n",
    "\n",
    "plt.figure(figsize=(10,5))\n",
    "\n",
    "plt.subplot(1,2,1)\n",
    "plt.boxplot(df['Rotor_Speed'])\n",
    "plt.title(\"Box plot of Rotor_Speed \")\n",
    "\n",
    "plt.subplot(1,2,2)\n",
    "plt.boxplot(winsorized_Rotor_Speed)\n",
    "plt.title(\"Box plot of winsorized_Rotor_Speed\")\n",
    "plt.show()"
   ]
  },
  {
   "cell_type": "code",
   "execution_count": 14,
   "metadata": {},
   "outputs": [
    {
     "data": {
      "image/png": "[encoded data removed]",
      "text/plain": [
       "<Figure size 720x360 with 2 Axes>"
      ]
     },
     "metadata": {
      "needs_background": "light"
     },
     "output_type": "display_data"
    }
   ],
   "source": [
    "# Treating outliers for the variable 'Wind_Speed'\n",
    "winsorized_Wind_Speed = winsorize(df[\"Wind_Speed\"], (0, 0.02))\n",
    "\n",
    "plt.figure(figsize=(10,5))\n",
    "\n",
    "plt.subplot(1,2,1)\n",
    "plt.boxplot(df['Wind_Speed'])\n",
    "plt.title(\"Box plot of Wind_Speed \")\n",
    "\n",
    "plt.subplot(1,2,2)\n",
    "plt.boxplot(winsorized_Wind_Speed)\n",
    "plt.title(\"Box plot of winsorized_Wind_Speed \")\n",
    "plt.show()"
   ]
  },
  {
   "cell_type": "code",
   "execution_count": 15,
   "metadata": {},
   "outputs": [
    {
     "data": {
      "image/png": "[encoded data removed]",
      "text/plain": [
       "<Figure size 720x360 with 2 Axes>"
      ]
     },
     "metadata": {
      "needs_background": "light"
     },
     "output_type": "display_data"
    }
   ],
   "source": [
    "# Treating outliers for the variable 'Target_Temp'\n",
    "winsorized_Target_Temp = winsorize(df[\"Target_Temp\"], (0.01, 0.01))\n",
    "\n",
    "plt.figure(figsize=(10,5))\n",
    "\n",
    "plt.subplot(1,2,1)\n",
    "plt.boxplot(df['Target_Temp'])\n",
    "plt.title(\"Box plot of Target_Temp \")\n",
    "\n",
    "plt.subplot(1,2,2)\n",
    "plt.boxplot(winsorized_Target_Temp)\n",
    "plt.title(\"Box plot of winsorized_Target_Temp \")\n",
    "plt.show()"
   ]
  },
  {
   "cell_type": "code",
   "execution_count": 16,
   "metadata": {},
   "outputs": [],
   "source": [
    "# Adding Winsorized columns to the dataframe.\n",
    "df['winsorized_Rotor_Speed'] = winsorized_Rotor_Speed\n",
    "df['winsorized_Wind_Speed'] = winsorized_Wind_Speed\n",
    "df['winsorized_Target_Temp'] = winsorized_Target_Temp"
   ]
  },
  {
   "cell_type": "code",
   "execution_count": 17,
   "metadata": {},
   "outputs": [],
   "source": [
    "# Drop the original variables.\n",
    "df = df.drop('Rotor_Speed',axis=1)\n",
    "df = df.drop('Wind_Speed',axis=1)\n",
    "df = df.drop('Target_Temp',axis=1)"
   ]
  },
  {
   "cell_type": "markdown",
   "metadata": {},
   "source": [
    "<b>Univariate analysis"
   ]
  },
  {
   "cell_type": "code",
   "execution_count": 18,
   "metadata": {},
   "outputs": [
    {
     "data": {
      "image/png": "[encoded data removed]",
      "text/plain": [
       "<Figure size 1224x864 with 6 Axes>"
      ]
     },
     "metadata": {
      "needs_background": "light"
     },
     "output_type": "display_data"
    }
   ],
   "source": [
    "# Extract numeric columns.\n",
    "num_cols = df.select_dtypes(include=[np.number]).columns.tolist()\n",
    "index = [1,2,3,4,5,6]\n",
    "# Create a dictionary of numeric columns\n",
    "col_dict = dict(zip(num_cols, index))\n",
    "\n",
    "plt.figure(figsize=(17,12))\n",
    "for variable,i in col_dict.items():\n",
    "                     plt.subplot(2,3,i)\n",
    "                     plt.hist(df[variable])\n",
    "                     plt.title(variable)\n",
    "plt.show()"
   ]
  },
  {
   "cell_type": "code",
   "execution_count": 19,
   "metadata": {},
   "outputs": [
    {
     "data": {
      "image/png": "[encoded data removed]",
      "text/plain": [
       "<Figure size 576x432 with 2 Axes>"
      ]
     },
     "metadata": {
      "needs_background": "light"
     },
     "output_type": "display_data"
    }
   ],
   "source": [
    "# Find correlation using heatmap.\n",
    "plt.figure(figsize=(8,6))\n",
    "sns.heatmap(df.corr(),annot = True)\n",
    "plt.show()"
   ]
  },
  {
   "cell_type": "code",
   "execution_count": 20,
   "metadata": {},
   "outputs": [
    {
     "data": {
      "text/plain": [
       "winsorized_Target_Temp    1.000000\n",
       "Ambient_Temperature       0.872114\n",
       "winsorized_Rotor_Speed    0.027140\n",
       "Year                      0.020591\n",
       "Time_Stamp               -0.004623\n",
       "Power                    -0.020441\n",
       "winsorized_Wind_Speed    -0.047497\n",
       "Name: winsorized_Target_Temp, dtype: float64"
      ]
     },
     "execution_count": 20,
     "metadata": {},
     "output_type": "execute_result"
    }
   ],
   "source": [
    "df.corr()['winsorized_Target_Temp'].sort_values(ascending=False)"
   ]
  },
  {
   "cell_type": "markdown",
   "metadata": {},
   "source": [
    "<b>From the above, it is clear that only Ambient_Temperature has high correlation w.r.t the target variable compared to others. Let us statistically confirm this by checking the p value."
   ]
  },
  {
   "cell_type": "code",
   "execution_count": 21,
   "metadata": {},
   "outputs": [],
   "source": [
    "# Encoding categorical variable to numeric.\n",
    "df = pd.concat([df, pd.get_dummies(df[\"Season\"])], axis=1)\n",
    "df = df.drop('Season',axis=1)"
   ]
  },
  {
   "cell_type": "code",
   "execution_count": 22,
   "metadata": {},
   "outputs": [],
   "source": [
    "#Split the data into train and test sets. i.e. all 2017 observations as train and 2018 observations as test set.\n",
    "train = df[df['Year']==2017]\n",
    "test = df[df['Year']==2018]\n",
    "\n",
    "train = train.drop('Year',axis=1)\n",
    "test = test.drop('Year',axis=1)\n",
    "\n",
    "xtrain = train.drop('winsorized_Target_Temp',axis=1)\n",
    "ytrain = train['winsorized_Target_Temp']\n",
    "\n",
    "xtest = test.drop('winsorized_Target_Temp',axis=1)\n",
    "ytest = test['winsorized_Target_Temp']"
   ]
  },
  {
   "cell_type": "code",
   "execution_count": 23,
   "metadata": {},
   "outputs": [
    {
     "name": "stdout",
     "output_type": "stream",
     "text": [
      "\n",
      "Coefficients: \n",
      " [ 2.47310839e-04  6.69626002e-01  2.62657923e+00 -1.27999353e-03\n",
      "  4.32695700e-01 -8.90370976e-02  1.22142454e+00 -2.48181594e+00\n",
      "  3.70710864e+00 -2.44671723e+00]\n",
      "\n",
      "Intercept: \n",
      " -5278.599046320581\n"
     ]
    }
   ],
   "source": [
    "from sklearn import linear_model\n",
    "\n",
    "X = df.drop('winsorized_Target_Temp',axis=1)\n",
    "Y = df['winsorized_Target_Temp']\n",
    "model = linear_model.LinearRegression()\n",
    "model.fit(X,Y)\n",
    "\n",
    "print('\\nCoefficients: \\n', model.coef_)\n",
    "print('\\nIntercept: \\n', model.intercept_)"
   ]
  },
  {
   "cell_type": "markdown",
   "metadata": {},
   "source": [
    "<b>But we are more interested in identifying the significance of these coefficients. We can determine this using Statistical T-test. Let us use \"statsmodels\" to get T-test, p values and many other statistical information."
   ]
  },
  {
   "cell_type": "code",
   "execution_count": 24,
   "metadata": {},
   "outputs": [
    {
     "name": "stderr",
     "output_type": "stream",
     "text": [
      "/Users/harshini/har/lib/python3.7/site-packages/numpy/core/fromnumeric.py:2389: FutureWarning: Method .ptp is deprecated and will be removed in a future version. Use numpy.ptp instead.\n",
      "  return ptp(axis=axis, out=out, **kwargs)\n"
     ]
    },
    {
     "data": {
      "text/html": [
       "<table class=\"simpletable\">\n",
       "<caption>OLS Regression Results</caption>\n",
       "<tr>\n",
       "  <th>Dep. Variable:</th>    <td>winsorized_Target_Temp</td> <th>  R-squared:         </th>  <td>   0.847</td>  \n",
       "</tr>\n",
       "<tr>\n",
       "  <th>Model:</th>                      <td>OLS</td>          <th>  Adj. R-squared:    </th>  <td>   0.847</td>  \n",
       "</tr>\n",
       "<tr>\n",
       "  <th>Method:</th>                <td>Least Squares</td>     <th>  F-statistic:       </th>  <td>3.563e+04</td> \n",
       "</tr>\n",
       "<tr>\n",
       "  <th>Date:</th>                <td>Thu, 25 Jul 2019</td>    <th>  Prob (F-statistic):</th>   <td>  0.00</td>   \n",
       "</tr>\n",
       "<tr>\n",
       "  <th>Time:</th>                    <td>13:38:00</td>        <th>  Log-Likelihood:    </th> <td>-1.4956e+05</td>\n",
       "</tr>\n",
       "<tr>\n",
       "  <th>No. Observations:</th>         <td> 51476</td>         <th>  AIC:               </th>  <td>2.991e+05</td> \n",
       "</tr>\n",
       "<tr>\n",
       "  <th>Df Residuals:</th>             <td> 51467</td>         <th>  BIC:               </th>  <td>2.992e+05</td> \n",
       "</tr>\n",
       "<tr>\n",
       "  <th>Df Model:</th>                 <td>     8</td>         <th>                     </th>      <td> </td>     \n",
       "</tr>\n",
       "<tr>\n",
       "  <th>Covariance Type:</th>         <td>nonrobust</td>       <th>                     </th>      <td> </td>     \n",
       "</tr>\n",
       "</table>\n",
       "<table class=\"simpletable\">\n",
       "<tr>\n",
       "             <td></td>               <th>coef</th>     <th>std err</th>      <th>t</th>      <th>P>|t|</th>  <th>[0.025</th>    <th>0.975]</th>  \n",
       "</tr>\n",
       "<tr>\n",
       "  <th>const</th>                  <td>   14.4756</td> <td>    0.090</td> <td>  160.379</td> <td> 0.000</td> <td>   14.299</td> <td>   14.653</td>\n",
       "</tr>\n",
       "<tr>\n",
       "  <th>Power</th>                  <td>    0.0003</td> <td> 9.66e-05</td> <td>    3.067</td> <td> 0.002</td> <td>    0.000</td> <td>    0.000</td>\n",
       "</tr>\n",
       "<tr>\n",
       "  <th>Ambient_Temperature</th>    <td>    0.6994</td> <td>    0.003</td> <td>  250.552</td> <td> 0.000</td> <td>    0.694</td> <td>    0.705</td>\n",
       "</tr>\n",
       "<tr>\n",
       "  <th>Time_Stamp</th>             <td>   -0.0010</td> <td> 4.75e-05</td> <td>  -21.305</td> <td> 0.000</td> <td>   -0.001</td> <td>   -0.001</td>\n",
       "</tr>\n",
       "<tr>\n",
       "  <th>winsorized_Rotor_Speed</th> <td>    0.4784</td> <td>    0.012</td> <td>   38.831</td> <td> 0.000</td> <td>    0.454</td> <td>    0.503</td>\n",
       "</tr>\n",
       "<tr>\n",
       "  <th>winsorized_Wind_Speed</th>  <td>   -0.0703</td> <td>    0.014</td> <td>   -4.917</td> <td> 0.000</td> <td>   -0.098</td> <td>   -0.042</td>\n",
       "</tr>\n",
       "<tr>\n",
       "  <th>Fall</th>                   <td>    4.6999</td> <td>    0.042</td> <td>  111.442</td> <td> 0.000</td> <td>    4.617</td> <td>    4.783</td>\n",
       "</tr>\n",
       "<tr>\n",
       "  <th>Spring</th>                 <td>   -0.9868</td> <td>    0.041</td> <td>  -24.024</td> <td> 0.000</td> <td>   -1.067</td> <td>   -0.906</td>\n",
       "</tr>\n",
       "<tr>\n",
       "  <th>Summer</th>                 <td>    9.5909</td> <td>    0.055</td> <td>  175.331</td> <td> 0.000</td> <td>    9.484</td> <td>    9.698</td>\n",
       "</tr>\n",
       "<tr>\n",
       "  <th>Winter</th>                 <td>    1.1716</td> <td>    0.049</td> <td>   23.903</td> <td> 0.000</td> <td>    1.076</td> <td>    1.268</td>\n",
       "</tr>\n",
       "</table>\n",
       "<table class=\"simpletable\">\n",
       "<tr>\n",
       "  <th>Omnibus:</th>       <td>4897.726</td> <th>  Durbin-Watson:     </th> <td>   0.067</td> \n",
       "</tr>\n",
       "<tr>\n",
       "  <th>Prob(Omnibus):</th>  <td> 0.000</td>  <th>  Jarque-Bera (JB):  </th> <td>24251.867</td>\n",
       "</tr>\n",
       "<tr>\n",
       "  <th>Skew:</th>           <td> 0.340</td>  <th>  Prob(JB):          </th> <td>    0.00</td> \n",
       "</tr>\n",
       "<tr>\n",
       "  <th>Kurtosis:</th>       <td> 6.293</td>  <th>  Cond. No.          </th> <td>4.25e+17</td> \n",
       "</tr>\n",
       "</table><br/><br/>Warnings:<br/>[1] Standard Errors assume that the covariance matrix of the errors is correctly specified.<br/>[2] The smallest eigenvalue is 3.84e-25. This might indicate that there are<br/>strong multicollinearity problems or that the design matrix is singular."
      ],
      "text/plain": [
       "<class 'statsmodels.iolib.summary.Summary'>\n",
       "\"\"\"\n",
       "                              OLS Regression Results                              \n",
       "==================================================================================\n",
       "Dep. Variable:     winsorized_Target_Temp   R-squared:                       0.847\n",
       "Model:                                OLS   Adj. R-squared:                  0.847\n",
       "Method:                     Least Squares   F-statistic:                 3.563e+04\n",
       "Date:                    Thu, 25 Jul 2019   Prob (F-statistic):               0.00\n",
       "Time:                            13:38:00   Log-Likelihood:            -1.4956e+05\n",
       "No. Observations:                   51476   AIC:                         2.991e+05\n",
       "Df Residuals:                       51467   BIC:                         2.992e+05\n",
       "Df Model:                               8                                         \n",
       "Covariance Type:                nonrobust                                         \n",
       "==========================================================================================\n",
       "                             coef    std err          t      P>|t|      [0.025      0.975]\n",
       "------------------------------------------------------------------------------------------\n",
       "const                     14.4756      0.090    160.379      0.000      14.299      14.653\n",
       "Power                      0.0003   9.66e-05      3.067      0.002       0.000       0.000\n",
       "Ambient_Temperature        0.6994      0.003    250.552      0.000       0.694       0.705\n",
       "Time_Stamp                -0.0010   4.75e-05    -21.305      0.000      -0.001      -0.001\n",
       "winsorized_Rotor_Speed     0.4784      0.012     38.831      0.000       0.454       0.503\n",
       "winsorized_Wind_Speed     -0.0703      0.014     -4.917      0.000      -0.098      -0.042\n",
       "Fall                       4.6999      0.042    111.442      0.000       4.617       4.783\n",
       "Spring                    -0.9868      0.041    -24.024      0.000      -1.067      -0.906\n",
       "Summer                     9.5909      0.055    175.331      0.000       9.484       9.698\n",
       "Winter                     1.1716      0.049     23.903      0.000       1.076       1.268\n",
       "==============================================================================\n",
       "Omnibus:                     4897.726   Durbin-Watson:                   0.067\n",
       "Prob(Omnibus):                  0.000   Jarque-Bera (JB):            24251.867\n",
       "Skew:                           0.340   Prob(JB):                         0.00\n",
       "Kurtosis:                       6.293   Cond. No.                     4.25e+17\n",
       "==============================================================================\n",
       "\n",
       "Warnings:\n",
       "[1] Standard Errors assume that the covariance matrix of the errors is correctly specified.\n",
       "[2] The smallest eigenvalue is 3.84e-25. This might indicate that there are\n",
       "strong multicollinearity problems or that the design matrix is singular.\n",
       "\"\"\""
      ]
     },
     "execution_count": 24,
     "metadata": {},
     "output_type": "execute_result"
    }
   ],
   "source": [
    "# Interpreting estimated coefficients using statsmodel\n",
    "import statsmodels.api as sm\n",
    "\n",
    "xtrain = sm.add_constant(xtrain)\n",
    "model1 = sm.OLS(ytrain, xtrain).fit()\n",
    "model1.summary()"
   ]
  },
  {
   "cell_type": "markdown",
   "metadata": {},
   "source": [
    "<b>From the above, p-values of all variables are less than 0.05. Hence we can interpret that all variables are statistically significant in determining the target variable. Let us utilize all variables for modeling."
   ]
  },
  {
   "cell_type": "code",
   "execution_count": 25,
   "metadata": {},
   "outputs": [
    {
     "data": {
      "image/png": "[encoded data removed]",
      "text/plain": [
       "<Figure size 432x288 with 1 Axes>"
      ]
     },
     "metadata": {
      "needs_background": "light"
     },
     "output_type": "display_data"
    }
   ],
   "source": [
    "xtest = sm.add_constant(xtest)\n",
    "\n",
    "# We are making predictions here\n",
    "y_preds = model1.predict(xtest)\n",
    "\n",
    "plt.scatter(ytest, y_preds)\n",
    "plt.plot(ytest, ytest, color=\"red\")\n",
    "plt.xlabel(\"true values\")\n",
    "plt.ylabel(\"predicted values\")\n",
    "plt.title(\"Charges: true and predicted values\")\n",
    "plt.show()"
   ]
  },
  {
   "cell_type": "markdown",
   "metadata": {},
   "source": [
    "<b>In the graph, we see that our model predicts the lower values of the target better than the higher values. By using visualizations like this, we can more intuitively understand the performance of the models. But, we need to find more accurate ways of assessing our models. Let us find how good the predictions are using the metric below."
   ]
  },
  {
   "cell_type": "code",
   "execution_count": 26,
   "metadata": {},
   "outputs": [
    {
     "name": "stdout",
     "output_type": "stream",
     "text": [
      "Mean absolute error of the prediction is: 5.041462831653051\n"
     ]
    }
   ],
   "source": [
    "from sklearn.metrics import mean_absolute_error\n",
    "print(\"Mean absolute error of the prediction is: {}\".format(mean_absolute_error(ytest, y_preds)))"
   ]
  },
  {
   "cell_type": "markdown",
   "metadata": {},
   "source": [
    "<b>Now we got the Mean error = 5.04. If you observe the distribution of the target variable from below, we see that it is not normally distributed. Let us try to improvise the model by converting the target variable to normal distribution using boxcox transformation technique."
   ]
  },
  {
   "cell_type": "code",
   "execution_count": 27,
   "metadata": {},
   "outputs": [
    {
     "data": {
      "image/png": "[encoded data removed]",
      "text/plain": [
       "<Figure size 432x360 with 1 Axes>"
      ]
     },
     "metadata": {
      "needs_background": "light"
     },
     "output_type": "display_data"
    }
   ],
   "source": [
    "# Distribution of the target variable\n",
    "plt.figure(figsize=(6,5))\n",
    "plt.hist(df['winsorized_Target_Temp'])\n",
    "plt.title(\"Distribution of winsorized_Target_Temp\")\n",
    "plt.show()"
   ]
  },
  {
   "cell_type": "code",
   "execution_count": 28,
   "metadata": {},
   "outputs": [
    {
     "data": {
      "image/png": "[encoded data removed]",
      "text/plain": [
       "<Figure size 432x360 with 1 Axes>"
      ]
     },
     "metadata": {
      "needs_background": "light"
     },
     "output_type": "display_data"
    }
   ],
   "source": [
    "# Convert target variable to normal distribution using boxcox transformation.\n",
    "from scipy.stats import boxcox\n",
    "boxcox_Target_Temp,_ = boxcox(df['winsorized_Target_Temp'])\n",
    "plt.figure(figsize=(6,5))\n",
    "plt.hist(boxcox_Target_Temp)\n",
    "plt.title(\"Distribution of boxcox_Target_Temp\")\n",
    "plt.show()"
   ]
  },
  {
   "cell_type": "markdown",
   "metadata": {},
   "source": [
    "After the transformation, Target_Temp is not fully coverted to a normal distribution but it is somewhat better than the original."
   ]
  },
  {
   "cell_type": "code",
   "execution_count": 29,
   "metadata": {},
   "outputs": [],
   "source": [
    "# Create new test and train sets\n",
    "df['boxcox_Target_Temp'] = boxcox_Target_Temp\n",
    "df = df.drop('winsorized_Target_Temp',axis=1)\n",
    "\n",
    "train1 = df[df['Year']==2017]\n",
    "test1 = df[df['Year']==2018]\n",
    "\n",
    "train1 = train1.drop('Year',axis=1)\n",
    "test1 = test1.drop('Year',axis=1)"
   ]
  },
  {
   "cell_type": "code",
   "execution_count": 30,
   "metadata": {},
   "outputs": [],
   "source": [
    "xtrain1 = train1.drop('boxcox_Target_Temp',axis=1)\n",
    "ytrain1 = train1['boxcox_Target_Temp']\n",
    "\n",
    "xtest1 = test1.drop('boxcox_Target_Temp',axis=1)\n",
    "ytest1 = test1['boxcox_Target_Temp']"
   ]
  },
  {
   "cell_type": "code",
   "execution_count": 31,
   "metadata": {},
   "outputs": [
    {
     "name": "stderr",
     "output_type": "stream",
     "text": [
      "/Users/harshini/har/lib/python3.7/site-packages/numpy/core/fromnumeric.py:2389: FutureWarning: Method .ptp is deprecated and will be removed in a future version. Use numpy.ptp instead.\n",
      "  return ptp(axis=axis, out=out, **kwargs)\n"
     ]
    },
    {
     "data": {
      "text/html": [
       "<table class=\"simpletable\">\n",
       "<caption>OLS Regression Results</caption>\n",
       "<tr>\n",
       "  <th>Dep. Variable:</th>    <td>boxcox_Target_Temp</td> <th>  R-squared:         </th>  <td>   0.846</td>  \n",
       "</tr>\n",
       "<tr>\n",
       "  <th>Model:</th>                    <td>OLS</td>        <th>  Adj. R-squared:    </th>  <td>   0.846</td>  \n",
       "</tr>\n",
       "<tr>\n",
       "  <th>Method:</th>              <td>Least Squares</td>   <th>  F-statistic:       </th>  <td>3.533e+04</td> \n",
       "</tr>\n",
       "<tr>\n",
       "  <th>Date:</th>              <td>Thu, 25 Jul 2019</td>  <th>  Prob (F-statistic):</th>   <td>  0.00</td>   \n",
       "</tr>\n",
       "<tr>\n",
       "  <th>Time:</th>                  <td>13:38:01</td>      <th>  Log-Likelihood:    </th> <td>-1.3002e+05</td>\n",
       "</tr>\n",
       "<tr>\n",
       "  <th>No. Observations:</th>       <td> 51476</td>       <th>  AIC:               </th>  <td>2.601e+05</td> \n",
       "</tr>\n",
       "<tr>\n",
       "  <th>Df Residuals:</th>           <td> 51467</td>       <th>  BIC:               </th>  <td>2.601e+05</td> \n",
       "</tr>\n",
       "<tr>\n",
       "  <th>Df Model:</th>               <td>     8</td>       <th>                     </th>      <td> </td>     \n",
       "</tr>\n",
       "<tr>\n",
       "  <th>Covariance Type:</th>       <td>nonrobust</td>     <th>                     </th>      <td> </td>     \n",
       "</tr>\n",
       "</table>\n",
       "<table class=\"simpletable\">\n",
       "<tr>\n",
       "             <td></td>               <th>coef</th>     <th>std err</th>      <th>t</th>      <th>P>|t|</th>  <th>[0.025</th>    <th>0.975]</th>  \n",
       "</tr>\n",
       "<tr>\n",
       "  <th>const</th>                  <td>   10.5798</td> <td>    0.062</td> <td>  171.303</td> <td> 0.000</td> <td>   10.459</td> <td>   10.701</td>\n",
       "</tr>\n",
       "<tr>\n",
       "  <th>Power</th>                  <td>    0.0003</td> <td> 6.61e-05</td> <td>    3.878</td> <td> 0.000</td> <td>    0.000</td> <td>    0.000</td>\n",
       "</tr>\n",
       "<tr>\n",
       "  <th>Ambient_Temperature</th>    <td>    0.4807</td> <td>    0.002</td> <td>  251.653</td> <td> 0.000</td> <td>    0.477</td> <td>    0.484</td>\n",
       "</tr>\n",
       "<tr>\n",
       "  <th>Time_Stamp</th>             <td>   -0.0007</td> <td> 3.25e-05</td> <td>  -21.010</td> <td> 0.000</td> <td>   -0.001</td> <td>   -0.001</td>\n",
       "</tr>\n",
       "<tr>\n",
       "  <th>winsorized_Rotor_Speed</th> <td>    0.3758</td> <td>    0.008</td> <td>   44.576</td> <td> 0.000</td> <td>    0.359</td> <td>    0.392</td>\n",
       "</tr>\n",
       "<tr>\n",
       "  <th>winsorized_Wind_Speed</th>  <td>   -0.1051</td> <td>    0.010</td> <td>  -10.738</td> <td> 0.000</td> <td>   -0.124</td> <td>   -0.086</td>\n",
       "</tr>\n",
       "<tr>\n",
       "  <th>Fall</th>                   <td>    3.4440</td> <td>    0.029</td> <td>  119.344</td> <td> 0.000</td> <td>    3.387</td> <td>    3.501</td>\n",
       "</tr>\n",
       "<tr>\n",
       "  <th>Spring</th>                 <td>   -0.3855</td> <td>    0.028</td> <td>  -13.717</td> <td> 0.000</td> <td>   -0.441</td> <td>   -0.330</td>\n",
       "</tr>\n",
       "<tr>\n",
       "  <th>Summer</th>                 <td>    6.5365</td> <td>    0.037</td> <td>  174.633</td> <td> 0.000</td> <td>    6.463</td> <td>    6.610</td>\n",
       "</tr>\n",
       "<tr>\n",
       "  <th>Winter</th>                 <td>    0.9848</td> <td>    0.034</td> <td>   29.362</td> <td> 0.000</td> <td>    0.919</td> <td>    1.051</td>\n",
       "</tr>\n",
       "</table>\n",
       "<table class=\"simpletable\">\n",
       "<tr>\n",
       "  <th>Omnibus:</th>       <td>4389.622</td> <th>  Durbin-Watson:     </th> <td>   0.071</td> \n",
       "</tr>\n",
       "<tr>\n",
       "  <th>Prob(Omnibus):</th>  <td> 0.000</td>  <th>  Jarque-Bera (JB):  </th> <td>24960.489</td>\n",
       "</tr>\n",
       "<tr>\n",
       "  <th>Skew:</th>           <td> 0.196</td>  <th>  Prob(JB):          </th> <td>    0.00</td> \n",
       "</tr>\n",
       "<tr>\n",
       "  <th>Kurtosis:</th>       <td> 6.389</td>  <th>  Cond. No.          </th> <td>4.25e+17</td> \n",
       "</tr>\n",
       "</table><br/><br/>Warnings:<br/>[1] Standard Errors assume that the covariance matrix of the errors is correctly specified.<br/>[2] The smallest eigenvalue is 3.84e-25. This might indicate that there are<br/>strong multicollinearity problems or that the design matrix is singular."
      ],
      "text/plain": [
       "<class 'statsmodels.iolib.summary.Summary'>\n",
       "\"\"\"\n",
       "                            OLS Regression Results                            \n",
       "==============================================================================\n",
       "Dep. Variable:     boxcox_Target_Temp   R-squared:                       0.846\n",
       "Model:                            OLS   Adj. R-squared:                  0.846\n",
       "Method:                 Least Squares   F-statistic:                 3.533e+04\n",
       "Date:                Thu, 25 Jul 2019   Prob (F-statistic):               0.00\n",
       "Time:                        13:38:01   Log-Likelihood:            -1.3002e+05\n",
       "No. Observations:               51476   AIC:                         2.601e+05\n",
       "Df Residuals:                   51467   BIC:                         2.601e+05\n",
       "Df Model:                           8                                         \n",
       "Covariance Type:            nonrobust                                         \n",
       "==========================================================================================\n",
       "                             coef    std err          t      P>|t|      [0.025      0.975]\n",
       "------------------------------------------------------------------------------------------\n",
       "const                     10.5798      0.062    171.303      0.000      10.459      10.701\n",
       "Power                      0.0003   6.61e-05      3.878      0.000       0.000       0.000\n",
       "Ambient_Temperature        0.4807      0.002    251.653      0.000       0.477       0.484\n",
       "Time_Stamp                -0.0007   3.25e-05    -21.010      0.000      -0.001      -0.001\n",
       "winsorized_Rotor_Speed     0.3758      0.008     44.576      0.000       0.359       0.392\n",
       "winsorized_Wind_Speed     -0.1051      0.010    -10.738      0.000      -0.124      -0.086\n",
       "Fall                       3.4440      0.029    119.344      0.000       3.387       3.501\n",
       "Spring                    -0.3855      0.028    -13.717      0.000      -0.441      -0.330\n",
       "Summer                     6.5365      0.037    174.633      0.000       6.463       6.610\n",
       "Winter                     0.9848      0.034     29.362      0.000       0.919       1.051\n",
       "==============================================================================\n",
       "Omnibus:                     4389.622   Durbin-Watson:                   0.071\n",
       "Prob(Omnibus):                  0.000   Jarque-Bera (JB):            24960.489\n",
       "Skew:                           0.196   Prob(JB):                         0.00\n",
       "Kurtosis:                       6.389   Cond. No.                     4.25e+17\n",
       "==============================================================================\n",
       "\n",
       "Warnings:\n",
       "[1] Standard Errors assume that the covariance matrix of the errors is correctly specified.\n",
       "[2] The smallest eigenvalue is 3.84e-25. This might indicate that there are\n",
       "strong multicollinearity problems or that the design matrix is singular.\n",
       "\"\"\""
      ]
     },
     "execution_count": 31,
     "metadata": {},
     "output_type": "execute_result"
    }
   ],
   "source": [
    "import statsmodels.api as sm\n",
    "\n",
    "xtrain1 = sm.add_constant(xtrain1)\n",
    "model2 = sm.OLS(ytrain1, xtrain1).fit()\n",
    "model2.summary()"
   ]
  },
  {
   "cell_type": "code",
   "execution_count": 32,
   "metadata": {},
   "outputs": [
    {
     "name": "stdout",
     "output_type": "stream",
     "text": [
      "Mean absolute error of the prediction is: 3.4524168606839116\n"
     ]
    }
   ],
   "source": [
    "xtest1 = sm.add_constant(xtest1)\n",
    "\n",
    "# We are making predictions here\n",
    "y_preds = model2.predict(xtest1)\n",
    "\n",
    "print(\"Mean absolute error of the prediction is: {}\".format(mean_absolute_error(ytest1, y_preds)))"
   ]
  },
  {
   "cell_type": "markdown",
   "metadata": {},
   "source": [
    "<b>From the above it is observed that Mean absolute error is reduced when the target variable is transformed to a normal distribution. Let us see if there is any scope of more improvement of the model."
   ]
  },
  {
   "cell_type": "code",
   "execution_count": 33,
   "metadata": {},
   "outputs": [
    {
     "name": "stdout",
     "output_type": "stream",
     "text": [
      "Mean absolute error of the prediction on test set is: 3.4524168606839116\n",
      "Mean absolute error of the prediction on train set is: 2.157764355862423\n"
     ]
    },
    {
     "name": "stderr",
     "output_type": "stream",
     "text": [
      "/Users/harshini/har/lib/python3.7/site-packages/numpy/core/fromnumeric.py:2389: FutureWarning: Method .ptp is deprecated and will be removed in a future version. Use numpy.ptp instead.\n",
      "  return ptp(axis=axis, out=out, **kwargs)\n"
     ]
    }
   ],
   "source": [
    "xtest1 = sm.add_constant(xtest1)\n",
    "\n",
    "# We are making predictions here\n",
    "y_preds = model2.predict(xtest1)\n",
    "y_pred_train = model2.predict(xtrain1)\n",
    "\n",
    "print(\"Mean absolute error of the prediction on test set is: {}\".format(mean_absolute_error(ytest1, y_preds)))\n",
    "print(\"Mean absolute error of the prediction on train set is: {}\".format(mean_absolute_error(ytrain1, y_pred_train)))"
   ]
  },
  {
   "cell_type": "markdown",
   "metadata": {},
   "source": [
    "From the above, it is clear that the model performs well on the training set compared to testing set. It is a sign of overfitting. Let us generalize the model using regularization techniques like Ridge."
   ]
  },
  {
   "cell_type": "markdown",
   "metadata": {},
   "source": [
    "<b> Regularization"
   ]
  },
  {
   "cell_type": "code",
   "execution_count": 34,
   "metadata": {},
   "outputs": [
    {
     "name": "stdout",
     "output_type": "stream",
     "text": [
      "Mean absolute error of the prediction is: 1.6840467988801262\n"
     ]
    }
   ],
   "source": [
    "from sklearn.linear_model import Ridge\n",
    "\n",
    "# Fitting a ridge regression model. Alpha is the regularization\n",
    "# parameter (usually called lambda). As alpha gets larger, parameter\n",
    "# shrinkage grows more pronounced.\n",
    "ridgeregr = Ridge(alpha=10**6.4) \n",
    "ridgeregr.fit(xtrain1, ytrain1)\n",
    "\n",
    "# We are making predictions here\n",
    "y_preds_train = ridgeregr.predict(xtrain1)\n",
    "y_preds_test = ridgeregr.predict(xtest1)\n",
    "\n",
    "\n",
    "print(\"Mean absolute error of the prediction is: {}\".format(mean_absolute_error(ytest1, y_preds_test)))\n"
   ]
  },
  {
   "cell_type": "markdown",
   "metadata": {},
   "source": [
    "<b> Regularization technique helped the model to generalize well by reducing the Mean error to 1.68"
   ]
  },
  {
   "cell_type": "code",
   "execution_count": null,
   "metadata": {},
   "outputs": [],
   "source": []
  }
 ],
 "metadata": {
  "kernelspec": {
   "display_name": "Python 3",
   "language": "python",
   "name": "python3"
  },
  "language_info": {
   "codemirror_mode": {
    "name": "ipython",
    "version": 3
   },
   "file_extension": ".py",
   "mimetype": "text/x-python",
   "name": "python",
   "nbconvert_exporter": "python",
   "pygments_lexer": "ipython3",
   "version": "3.7.3"
  }
 },
 "nbformat": 4,
 "nbformat_minor": 2
}
